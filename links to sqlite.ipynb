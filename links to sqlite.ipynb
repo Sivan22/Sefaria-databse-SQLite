{
 "cells": [
  {
   "cell_type": "code",
   "execution_count": 1,
   "metadata": {},
   "outputs": [],
   "source": [
    "import pandas as pd\n",
    "links = pd.read_json('sefaria.links.json')"
   ]
  },
  {
   "cell_type": "code",
   "execution_count": 2,
   "metadata": {},
   "outputs": [
    {
     "data": {
      "text/html": [
       "<div>\n",
       "<style scoped>\n",
       "    .dataframe tbody tr th:only-of-type {\n",
       "        vertical-align: middle;\n",
       "    }\n",
       "\n",
       "    .dataframe tbody tr th {\n",
       "        vertical-align: top;\n",
       "    }\n",
       "\n",
       "    .dataframe thead th {\n",
       "        text-align: right;\n",
       "    }\n",
       "</style>\n",
       "<table border=\"1\" class=\"dataframe\">\n",
       "  <thead>\n",
       "    <tr style=\"text-align: right;\">\n",
       "      <th></th>\n",
       "      <th>inline_citation</th>\n",
       "      <th>is_first_comment</th>\n",
       "      <th>score</th>\n",
       "    </tr>\n",
       "  </thead>\n",
       "  <tbody>\n",
       "    <tr>\n",
       "      <th>count</th>\n",
       "      <td>735558.000000</td>\n",
       "      <td>72.0</td>\n",
       "      <td>26635.000000</td>\n",
       "    </tr>\n",
       "    <tr>\n",
       "      <th>mean</th>\n",
       "      <td>0.980619</td>\n",
       "      <td>1.0</td>\n",
       "      <td>45.642495</td>\n",
       "    </tr>\n",
       "    <tr>\n",
       "      <th>std</th>\n",
       "      <td>0.137861</td>\n",
       "      <td>0.0</td>\n",
       "      <td>24.811090</td>\n",
       "    </tr>\n",
       "    <tr>\n",
       "      <th>min</th>\n",
       "      <td>0.000000</td>\n",
       "      <td>1.0</td>\n",
       "      <td>24.500000</td>\n",
       "    </tr>\n",
       "    <tr>\n",
       "      <th>25%</th>\n",
       "      <td>1.000000</td>\n",
       "      <td>1.0</td>\n",
       "      <td>30.081077</td>\n",
       "    </tr>\n",
       "    <tr>\n",
       "      <th>50%</th>\n",
       "      <td>1.000000</td>\n",
       "      <td>1.0</td>\n",
       "      <td>36.983255</td>\n",
       "    </tr>\n",
       "    <tr>\n",
       "      <th>75%</th>\n",
       "      <td>1.000000</td>\n",
       "      <td>1.0</td>\n",
       "      <td>52.552330</td>\n",
       "    </tr>\n",
       "    <tr>\n",
       "      <th>max</th>\n",
       "      <td>1.000000</td>\n",
       "      <td>1.0</td>\n",
       "      <td>370.800000</td>\n",
       "    </tr>\n",
       "  </tbody>\n",
       "</table>\n",
       "</div>"
      ],
      "text/plain": [
       "       inline_citation  is_first_comment         score\n",
       "count    735558.000000              72.0  26635.000000\n",
       "mean          0.980619               1.0     45.642495\n",
       "std           0.137861               0.0     24.811090\n",
       "min           0.000000               1.0     24.500000\n",
       "25%           1.000000               1.0     30.081077\n",
       "50%           1.000000               1.0     36.983255\n",
       "75%           1.000000               1.0     52.552330\n",
       "max           1.000000               1.0    370.800000"
      ]
     },
     "execution_count": 2,
     "metadata": {},
     "output_type": "execute_result"
    }
   ],
   "source": [
    "links.describe()"
   ]
  },
  {
   "cell_type": "code",
   "execution_count": 3,
   "metadata": {},
   "outputs": [
    {
     "data": {
      "text/plain": [
       "inline_reference\n",
       "Notes by Rabbi Yehoshua Hartman                                            38923\n",
       "{'data-commentator': 'Tur', 'data-label': '⚬'}                              3824\n",
       "{'data-commentator': 'Variants', 'data-order': 1, 'data-label': 'א'}        3449\n",
       "{'data-commentator': 'Variants', 'data-order': 2, 'data-label': 'ב'}        3412\n",
       "{'data-commentator': 'Variants', 'data-order': 3, 'data-label': 'ג'}        3336\n",
       "                                                                           ...  \n",
       "{'data-order': 72, 'data-commentator': 'Turei Zahav'}                          1\n",
       "{'data-order': 73, 'data-commentator': 'Turei Zahav'}                          1\n",
       "{'data-order': 74, 'data-commentator': 'Turei Zahav'}                          1\n",
       "{'data-order': 75, 'data-commentator': 'Turei Zahav'}                          1\n",
       "{'data-commentator': 'Ohr Penimi', 'data-order': 43, 'data-label': 'ש'}        1\n",
       "Name: count, Length: 8323, dtype: int64"
      ]
     },
     "execution_count": 3,
     "metadata": {},
     "output_type": "execute_result"
    }
   ],
   "source": [
    "links['inline_reference'].value_counts()"
   ]
  },
  {
   "cell_type": "code",
   "execution_count": 4,
   "metadata": {},
   "outputs": [
    {
     "data": {
      "text/plain": [
       "first_comment_indexes\n",
       "[Alshich on Torah, Numbers]        2\n",
       "[Alshich on Torah, Leviticus]      2\n",
       "[Alshich on Torah, Genesis]        2\n",
       "[Alshich on Torah, Exodus]         2\n",
       "[Alshich on Torah, Deuteronomy]    2\n",
       "                                  ..\n",
       "[Bekhor Shor, Genesis]             1\n",
       "[Bekhor Shor, Numbers]             1\n",
       "[Bekhor Shor, Deuteronomy]         1\n",
       "[Bekhor Shor, Leviticus]           1\n",
       "[Chizkuni, Exodus]                 1\n",
       "Name: count, Length: 67, dtype: int64"
      ]
     },
     "execution_count": 4,
     "metadata": {},
     "output_type": "execute_result"
    }
   ],
   "source": [
    "links['first_comment_indexes'].value_counts()"
   ]
  },
  {
   "cell_type": "code",
   "execution_count": 7,
   "metadata": {},
   "outputs": [],
   "source": [
    "links['bookName_0']=links['refs_0'].map(lambda x: x.rsplit(' ',1)[0])\n",
    "links['bookName_1']=links['refs_1'].map(lambda x: x.rsplit(' ',1)[0])\n",
    "#links['level_1_index_0']"
   ]
  },
  {
   "cell_type": "code",
   "execution_count": 8,
   "metadata": {},
   "outputs": [],
   "source": [
    "import sqlite3\n",
    "\n",
    "conn = sqlite3.connect('sefaria.sqlite')\n",
    "links[['type','refs_0','refs_1','bookName_0','bookName_1']].to_sql('links', conn, if_exists='replace', index=False)\n",
    "conn.close()"
   ]
  },
  {
   "cell_type": "code",
   "execution_count": null,
   "metadata": {},
   "outputs": [],
   "source": []
  }
 ],
 "metadata": {
  "kernelspec": {
   "display_name": "Python 3",
   "language": "python",
   "name": "python3"
  },
  "language_info": {
   "codemirror_mode": {
    "name": "ipython",
    "version": 3
   },
   "file_extension": ".py",
   "mimetype": "text/x-python",
   "name": "python",
   "nbconvert_exporter": "python",
   "pygments_lexer": "ipython3",
   "version": "3.10.6"
  }
 },
 "nbformat": 4,
 "nbformat_minor": 2
}
